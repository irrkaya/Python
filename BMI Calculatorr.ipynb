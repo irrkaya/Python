{
 "cells": [
  {
   "cell_type": "code",
   "execution_count": 17,
   "id": "13687ac5",
   "metadata": {},
   "outputs": [
    {
     "name": "stdout",
     "output_type": "stream",
     "text": [
      "Enter your name: irem\n",
      "Enter your weight (kg): 73\n",
      "Enter your height (cm): 169\n",
      "25.559329155141626\n",
      "irem, you are overweight.\n"
     ]
    }
   ],
   "source": [
    "name = input(\"Enter your name: \")\n",
    "weight = int(input(\"Enter your weight (kg): \"))\n",
    "height = int(input(\"Enter your height (cm): \"))\n",
    "\n",
    "BMI = (weight / height**2) * 10000\n",
    "print(BMI)\n",
    "\n",
    "if BMI > 0:\n",
    "    if BMI < 18.5:\n",
    "        print(name + \", you are underweight.\")\n",
    "    elif BMI < 24.9:\n",
    "        print(name + \", your weight is normal.\")\n",
    "    elif BMI < 29.9:\n",
    "        print(name + \", you are overweight.\")\n",
    "    elif BMI < 30:\n",
    "        print(name + \", you are obese.\")\n",
    "    else:\n",
    "        print(name + \", you are extremely obese.\")\n",
    "else:\n",
    "    print(\"Enter valid input.\")"
   ]
  },
  {
   "cell_type": "code",
   "execution_count": null,
   "id": "12528775",
   "metadata": {},
   "outputs": [],
   "source": []
  },
  {
   "cell_type": "code",
   "execution_count": null,
   "id": "a3e5a8e6",
   "metadata": {},
   "outputs": [],
   "source": [
    " #The formula is BMI = kg/m2 "
   ]
  },
  {
   "cell_type": "code",
   "execution_count": null,
   "id": "37efdf49",
   "metadata": {},
   "outputs": [],
   "source": []
  },
  {
   "cell_type": "code",
   "execution_count": null,
   "id": "b5dc556e",
   "metadata": {},
   "outputs": [],
   "source": []
  },
  {
   "cell_type": "code",
   "execution_count": null,
   "id": "cb7c16f1",
   "metadata": {},
   "outputs": [],
   "source": []
  },
  {
   "cell_type": "code",
   "execution_count": null,
   "id": "fb95452e",
   "metadata": {},
   "outputs": [],
   "source": []
  }
 ],
 "metadata": {
  "kernelspec": {
   "display_name": "Python 3 (ipykernel)",
   "language": "python",
   "name": "python3"
  },
  "language_info": {
   "codemirror_mode": {
    "name": "ipython",
    "version": 3
   },
   "file_extension": ".py",
   "mimetype": "text/x-python",
   "name": "python",
   "nbconvert_exporter": "python",
   "pygments_lexer": "ipython3",
   "version": "3.10.9"
  }
 },
 "nbformat": 4,
 "nbformat_minor": 5
}
