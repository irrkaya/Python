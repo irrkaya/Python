{
 "cells": [
  {
   "cell_type": "code",
   "execution_count": 2,
   "id": "1ce2acc7",
   "metadata": {
    "scrolled": true
   },
   "outputs": [
    {
     "name": "stdout",
     "output_type": "stream",
     "text": [
      "Hello World\n"
     ]
    }
   ],
   "source": [
    "print('Hello World')"
   ]
  },
  {
   "cell_type": "code",
   "execution_count": 3,
   "id": "5348fac4",
   "metadata": {},
   "outputs": [
    {
     "name": "stdout",
     "output_type": "stream",
     "text": [
      "22\n"
     ]
    }
   ],
   "source": [
    "x=22\n",
    "print(x)"
   ]
  },
  {
   "cell_type": "code",
   "execution_count": 4,
   "id": "40701eac",
   "metadata": {},
   "outputs": [
    {
     "data": {
      "text/plain": [
       "int"
      ]
     },
     "execution_count": 4,
     "metadata": {},
     "output_type": "execute_result"
    }
   ],
   "source": [
    " type(x)"
   ]
  },
  {
   "cell_type": "code",
   "execution_count": 5,
   "id": "faf000db",
   "metadata": {},
   "outputs": [],
   "source": [
    "y=\"irem\""
   ]
  },
  {
   "cell_type": "code",
   "execution_count": 6,
   "id": "aaca33aa",
   "metadata": {},
   "outputs": [
    {
     "name": "stdout",
     "output_type": "stream",
     "text": [
      "irem\n"
     ]
    }
   ],
   "source": [
    "print(y)"
   ]
  },
  {
   "cell_type": "code",
   "execution_count": 8,
   "id": "c98bfb7d",
   "metadata": {},
   "outputs": [],
   "source": [
    "z='mark'"
   ]
  },
  {
   "cell_type": "code",
   "execution_count": 9,
   "id": "026226eb",
   "metadata": {},
   "outputs": [
    {
     "name": "stdout",
     "output_type": "stream",
     "text": [
      "mark\n"
     ]
    }
   ],
   "source": [
    "print(z)"
   ]
  },
  {
   "cell_type": "code",
   "execution_count": 10,
   "id": "e41270bb",
   "metadata": {},
   "outputs": [
    {
     "data": {
      "text/plain": [
       "str"
      ]
     },
     "execution_count": 10,
     "metadata": {},
     "output_type": "execute_result"
    }
   ],
   "source": [
    "type(y)"
   ]
  },
  {
   "cell_type": "code",
   "execution_count": 11,
   "id": "2876fab5",
   "metadata": {},
   "outputs": [
    {
     "data": {
      "text/plain": [
       "str"
      ]
     },
     "execution_count": 11,
     "metadata": {},
     "output_type": "execute_result"
    }
   ],
   "source": [
    "type(z)"
   ]
  },
  {
   "cell_type": "code",
   "execution_count": 12,
   "id": "854c7960",
   "metadata": {},
   "outputs": [
    {
     "name": "stdout",
     "output_type": "stream",
     "text": [
      "mark\n"
     ]
    }
   ],
   "source": [
    "y=z\n",
    "print(y)"
   ]
  },
  {
   "cell_type": "code",
   "execution_count": 13,
   "id": "11da986b",
   "metadata": {},
   "outputs": [
    {
     "name": "stdout",
     "output_type": "stream",
     "text": [
      "Chocolate Vanilla Rocky Road\n"
     ]
    }
   ],
   "source": [
    "x,y,z = 'Chocolate','Vanilla','Rocky Road'\n",
    "print (x,y,z)"
   ]
  },
  {
   "cell_type": "code",
   "execution_count": 14,
   "id": "3bfc35b9",
   "metadata": {},
   "outputs": [
    {
     "name": "stdout",
     "output_type": "stream",
     "text": [
      "r2\n"
     ]
    }
   ],
   "source": [
    "a= 'r'+'2'\n",
    "print(a)"
   ]
  },
  {
   "cell_type": "code",
   "execution_count": 15,
   "id": "bc91b96f",
   "metadata": {},
   "outputs": [
    {
     "ename": "NameError",
     "evalue": "name 'j' is not defined",
     "output_type": "error",
     "traceback": [
      "\u001b[1;31m---------------------------------------------------------------------------\u001b[0m",
      "\u001b[1;31mNameError\u001b[0m                                 Traceback (most recent call last)",
      "Cell \u001b[1;32mIn[15], line 1\u001b[0m\n\u001b[1;32m----> 1\u001b[0m \u001b[38;5;28mtype\u001b[39m(\u001b[43mj\u001b[49m)\n",
      "\u001b[1;31mNameError\u001b[0m: name 'j' is not defined"
     ]
    }
   ],
   "source": [
    "type(j)"
   ]
  },
  {
   "cell_type": "code",
   "execution_count": 16,
   "id": "50187e89",
   "metadata": {},
   "outputs": [
    {
     "data": {
      "text/plain": [
       "complex"
      ]
     },
     "execution_count": 16,
     "metadata": {},
     "output_type": "execute_result"
    }
   ],
   "source": [
    "type(2+2j)"
   ]
  },
  {
   "cell_type": "code",
   "execution_count": 17,
   "id": "50ad731b",
   "metadata": {},
   "outputs": [
    {
     "data": {
      "text/plain": [
       "[2, 5]"
      ]
     },
     "execution_count": 17,
     "metadata": {},
     "output_type": "execute_result"
    }
   ],
   "source": [
    "[2,5]"
   ]
  },
  {
   "cell_type": "code",
   "execution_count": 18,
   "id": "ad763bb7",
   "metadata": {},
   "outputs": [],
   "source": [
    "integers = [1,2,3,4,5]"
   ]
  },
  {
   "cell_type": "code",
   "execution_count": 20,
   "id": "35a5e3b1",
   "metadata": {},
   "outputs": [
    {
     "name": "stdout",
     "output_type": "stream",
     "text": [
      "1\n",
      "2\n",
      "3\n",
      "4\n",
      "5\n"
     ]
    }
   ],
   "source": [
    "for a in integers:\n",
    "    print (a)"
   ]
  },
  {
   "cell_type": "code",
   "execution_count": 21,
   "id": "db466df7",
   "metadata": {},
   "outputs": [],
   "source": [
    "ice_cream_dict = {'name': 'Irem Soyaker','weekly intake':1,'favorite ice cream':['almond','chocolate']}"
   ]
  },
  {
   "cell_type": "code",
   "execution_count": 23,
   "id": "be28acef",
   "metadata": {},
   "outputs": [
    {
     "data": {
      "text/plain": [
       "{'name': 'Irem Soyaker',\n",
       " 'weekly intake': 1,\n",
       " 'favorite ice cream': ['almond', 'chocolate']}"
      ]
     },
     "execution_count": 23,
     "metadata": {},
     "output_type": "execute_result"
    }
   ],
   "source": [
    "ice_cream_dict"
   ]
  },
  {
   "cell_type": "code",
   "execution_count": 24,
   "id": "9c362f88",
   "metadata": {},
   "outputs": [
    {
     "data": {
      "text/plain": [
       "dict_keys(['name', 'weekly intake', 'favorite ice cream'])"
      ]
     },
     "execution_count": 24,
     "metadata": {},
     "output_type": "execute_result"
    }
   ],
   "source": [
    "ice_cream_dict.keys()"
   ]
  },
  {
   "cell_type": "code",
   "execution_count": 25,
   "id": "0c2a6080",
   "metadata": {},
   "outputs": [
    {
     "data": {
      "text/plain": [
       "dict_values(['Irem Soyaker', 1, ['almond', 'chocolate']])"
      ]
     },
     "execution_count": 25,
     "metadata": {},
     "output_type": "execute_result"
    }
   ],
   "source": [
    "ice_cream_dict.values()"
   ]
  },
  {
   "cell_type": "code",
   "execution_count": 32,
   "id": "10ca7aa3",
   "metadata": {},
   "outputs": [
    {
     "data": {
      "text/plain": [
       "dict_items([('name', 'Irem Soyaker'), ('weekly intake', 1), ('favorite ice cream', ['almond', 'chocolate'])])"
      ]
     },
     "execution_count": 32,
     "metadata": {},
     "output_type": "execute_result"
    }
   ],
   "source": [
    "ice_cream_dict.items()"
   ]
  },
  {
   "cell_type": "code",
   "execution_count": 35,
   "id": "dd2f7e6b",
   "metadata": {},
   "outputs": [
    {
     "name": "stdout",
     "output_type": "stream",
     "text": [
      "name Irem Soyaker\n",
      "weekly intake 1\n",
      "favorite ice cream ['almond', 'chocolate']\n"
     ]
    }
   ],
   "source": [
    "for key, cream in ice_cream_dict.items():\n",
    "    print(key,cream)"
   ]
  },
  {
   "cell_type": "code",
   "execution_count": 36,
   "id": "88b11398",
   "metadata": {},
   "outputs": [],
   "source": [
    "flavors = ['Vanilla','Chocolate','Cookie Dough']\n",
    "toppings = ['Hot Fudge','Oreos','Marsmallows']"
   ]
  },
  {
   "cell_type": "code",
   "execution_count": 37,
   "id": "89905d5f",
   "metadata": {},
   "outputs": [
    {
     "name": "stdout",
     "output_type": "stream",
     "text": [
      "Vanilla  topped with  Hot Fudge\n",
      "Vanilla  topped with  Oreos\n",
      "Vanilla  topped with  Marsmallows\n",
      "Chocolate  topped with  Hot Fudge\n",
      "Chocolate  topped with  Oreos\n",
      "Chocolate  topped with  Marsmallows\n",
      "Cookie Dough  topped with  Hot Fudge\n",
      "Cookie Dough  topped with  Oreos\n",
      "Cookie Dough  topped with  Marsmallows\n"
     ]
    }
   ],
   "source": [
    "for f in flavors:\n",
    "    for t in toppings:\n",
    "        print(f,' topped with ',t)"
   ]
  },
  {
   "cell_type": "code",
   "execution_count": null,
   "id": "d7d5cd51",
   "metadata": {},
   "outputs": [],
   "source": []
  },
  {
   "cell_type": "code",
   "execution_count": null,
   "id": "21d3dcc3",
   "metadata": {},
   "outputs": [],
   "source": []
  },
  {
   "cell_type": "code",
   "execution_count": null,
   "id": "7d570cb4",
   "metadata": {},
   "outputs": [],
   "source": []
  },
  {
   "cell_type": "code",
   "execution_count": null,
   "id": "12958f16",
   "metadata": {},
   "outputs": [],
   "source": []
  },
  {
   "cell_type": "code",
   "execution_count": null,
   "id": "c28d94f5",
   "metadata": {},
   "outputs": [],
   "source": []
  },
  {
   "cell_type": "code",
   "execution_count": null,
   "id": "6f2ac78c",
   "metadata": {},
   "outputs": [],
   "source": []
  },
  {
   "cell_type": "code",
   "execution_count": null,
   "id": "01d359f7",
   "metadata": {},
   "outputs": [],
   "source": []
  },
  {
   "cell_type": "code",
   "execution_count": null,
   "id": "bc52086f",
   "metadata": {},
   "outputs": [],
   "source": []
  }
 ],
 "metadata": {
  "kernelspec": {
   "display_name": "Python 3 (ipykernel)",
   "language": "python",
   "name": "python3"
  },
  "language_info": {
   "codemirror_mode": {
    "name": "ipython",
    "version": 3
   },
   "file_extension": ".py",
   "mimetype": "text/x-python",
   "name": "python",
   "nbconvert_exporter": "python",
   "pygments_lexer": "ipython3",
   "version": "3.10.9"
  }
 },
 "nbformat": 4,
 "nbformat_minor": 5
}
